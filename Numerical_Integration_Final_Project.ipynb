{
 "cells": [
  {
   "cell_type": "code",
   "execution_count": 1,
   "metadata": {
    "id": "wjL6LQ7ywowS"
   },
   "outputs": [
    {
     "name": "stdout",
     "output_type": "stream",
     "text": [
      "Using matplotlib backend: Qt5Agg\n"
     ]
    }
   ],
   "source": [
    "import numpy as np\n",
    "import sympy\n",
    "import matplotlib as mpl\n",
    "import matplotlib.pyplot as plt\n",
    "%matplotlib"
   ]
  },
  {
   "cell_type": "code",
   "execution_count": 2,
   "metadata": {},
   "outputs": [],
   "source": [
    "def definition_to_function(s):\n",
    "    lhs, rhs = s.split(\"=\", 1)\n",
    "    params = sympy.sympify(lhs).args\n",
    "    f = sympy.sympify(rhs)\n",
    "    f_int = sympy.integrate(f, params)\n",
    "    print(f'The integrated function is {f_int}')\n",
    "    def func(*arguments):\n",
    "        argdict = dict(zip(params, arguments))\n",
    "        result = f.subs(argdict)\n",
    "        return float(result)\n",
    "    def func_int(*arguments):\n",
    "        argdict = dict(zip(params, arguments))\n",
    "        result = f_int.subs(argdict)\n",
    "        return float(result)\n",
    "    \n",
    "    return func, rhs, func_int, f_int"
   ]
  },
  {
   "cell_type": "code",
   "execution_count": 3,
   "metadata": {},
   "outputs": [],
   "source": [
    "def input_func():\n",
    "    func, func_str, func_integrate, f_int_str = definition_to_function(input(\"Please enter the formula:\"))\n",
    "    a = int(input(\"Please enter the lower bound of integration:\"))\n",
    "    b = int(input(\"Please enter the upper bound of integration:\"))\n",
    "    n = int(input(\"Please enter the number of intervals / panels that you want:\"))\n",
    "    return func, func_str, func_integrate, f_int_str, a, b, n"
   ]
  },
  {
   "cell_type": "code",
   "execution_count": 4,
   "metadata": {},
   "outputs": [],
   "source": [
    "def function_true(f, a, b):\n",
    "    interval = b-a\n",
    "    XTrue = np.linspace(a-interval/2, b+interval/2, num=1000)\n",
    "    funcResTrue = np.array([f(x) for x in XTrue])\n",
    "    return XTrue, funcResTrue\n",
    "\n",
    "def results(area, true_area):\n",
    "    print(f'the approximate area under the curve is {area}')\n",
    "    print(f'the true area under the curve is {true_area}')\n",
    "    print(f'the difference in measurement is {area-true_area}')\n",
    "    print(f'the relative true error is {abs((true_area-area)/true_area) * 100}%')"
   ]
  },
  {
   "cell_type": "code",
   "execution_count": 5,
   "metadata": {},
   "outputs": [],
   "source": [
    "def static_plot_riemann(riemann, title, m=1, alignment='center'):\n",
    "    func, func_str, func_integrate, f_int_str, a, b, n = input_func()\n",
    "    area, x, x_pos, y_pos = riemann(func, a, b, n)\n",
    "    true_area = func_integrate(b) - func_integrate(a)\n",
    "    x_true, y_true = function_true(func, a, b)\n",
    "    title += ' of f(x) = ' + func_str + f', n = {n}, ' + f'from a = {a} to b = {b}'\n",
    "    fig = plt.figure(figsize=(12, 5)); plt.clf();\n",
    "    ax = fig.add_subplot(1,1,1)\n",
    "    plot_engine_riemann(ax, title, x_true, y_true, x_pos, y_pos, x, \n",
    "                        x[::n//5 if n//5 != 0 else 1], m*(b-a) / n, alignment)\n",
    "    return area, true_area"
   ]
  },
  {
   "cell_type": "code",
   "execution_count": 6,
   "metadata": {},
   "outputs": [],
   "source": [
    "def plot_engine_riemann(ax, title, XTrue, funcResTrue, X, funcResults,\n",
    "                        Xminor, Xmajor, h, alignment='center'):\n",
    "    ax.bar(X, funcResults, width=h, alpha=0.2, \n",
    "           align=alignment, label=\"approximation\")\n",
    "    ax.plot(XTrue, funcResTrue, label=\"true\")\n",
    "    ax.plot(X, funcResults, \"b.\", markersize=3)\n",
    "    plt.legend()\n",
    "    ax.set_title(title)\n",
    "    ax.set_xlabel('X')\n",
    "    ax.set_ylabel('Y = f(X)')\n",
    "    ax.set_xticks(Xmajor)\n",
    "    ax.set_xticks(Xminor, minor=True)\n",
    "    ax.grid(which='minor', alpha=0.3)\n",
    "    ax.grid(which='major', alpha=1.0)"
   ]
  },
  {
   "cell_type": "code",
   "execution_count": 7,
   "metadata": {},
   "outputs": [
    {
     "name": "stdout",
     "output_type": "stream",
     "text": [
      "Please enter the formula:f(x) = x**2\n",
      "The integrated function is x**3/3\n",
      "Please enter the lower bound of integration:5\n",
      "Please enter the upper bound of integration:8\n",
      "Please enter the number of intervals / panels that you want:5\n",
      "the approximate area under the curve is 117.48000000000002\n",
      "the true area under the curve is 129.0\n",
      "the difference in measurement is -11.519999999999982\n",
      "the relative true error is 8.93023255813952%\n"
     ]
    }
   ],
   "source": [
    "def riemann_left(f, a, b, n):\n",
    "    if n == 0:\n",
    "        return\n",
    "    x = np.linspace(a, b, num=n+1)\n",
    "    x_left = x[:-1]\n",
    "    y_left = np.array([f(c) for c in x_left])\n",
    "    total = np.sum(y_left) * (b-a) / n\n",
    "    return total, x, x_left, y_left\n",
    "\n",
    "results(*static_plot_riemann(riemann_left, \"Left Riemann Sum\", alignment='edge'))"
   ]
  },
  {
   "cell_type": "code",
   "execution_count": 8,
   "metadata": {},
   "outputs": [
    {
     "name": "stdout",
     "output_type": "stream",
     "text": [
      "Please enter the formula:f(x) = x**2\n",
      "The integrated function is x**3/3\n",
      "Please enter the lower bound of integration:5\n",
      "Please enter the upper bound of integration:8\n",
      "Please enter the number of intervals / panels that you want:3\n",
      "the approximate area under the curve is 128.75\n",
      "the true area under the curve is 129.0\n",
      "the difference in measurement is -0.25\n",
      "the relative true error is 0.1937984496124031%\n"
     ]
    }
   ],
   "source": [
    "def riemann_mid(f, a, b, n):\n",
    "    if n == 0:\n",
    "        return\n",
    "    x = np.linspace(a, b, num=n+1)\n",
    "    x_mid = (x[:-1] + x[1:]) / 2\n",
    "    y_mid = np.array([f(c) for c in x_mid])\n",
    "    total = np.sum(y_mid) * (b-a) / n\n",
    "    return total, x, x_mid, y_mid\n",
    "\n",
    "results(*static_plot_riemann(riemann_mid, \"Midpoint Riemann Sum\"))"
   ]
  },
  {
   "cell_type": "code",
   "execution_count": 9,
   "metadata": {},
   "outputs": [
    {
     "name": "stdout",
     "output_type": "stream",
     "text": [
      "Please enter the formula:f(x) = x**3\n",
      "The integrated function is x**4/4\n",
      "Please enter the lower bound of integration:5\n",
      "Please enter the upper bound of integration:8\n",
      "Please enter the number of intervals / panels that you want:6\n",
      "the approximate area under the curve is 966.9375\n",
      "the true area under the curve is 867.75\n",
      "the difference in measurement is 99.1875\n",
      "the relative true error is 11.430423509075194%\n"
     ]
    }
   ],
   "source": [
    "def riemann_right(f, a, b, n):\n",
    "    if n == 0:\n",
    "        return\n",
    "    x = np.linspace(a, b, num=n+1)\n",
    "    x_right = x[1::]\n",
    "    y_right = np.array([f(c) for c in x_right])\n",
    "    total = np.sum(y_right) * (b-a) / n\n",
    "    return total, x, x_right, y_right\n",
    "\n",
    "results(*static_plot_riemann(riemann_right, \"Right Riemann Sum\", -1, 'edge'))"
   ]
  },
  {
   "cell_type": "code",
   "execution_count": 12,
   "metadata": {},
   "outputs": [],
   "source": [
    "def plot_engine(ax, title, XTrue, funcResTrue,\n",
    "                X, funcResults, Xminor, Xmajor):\n",
    "    ax.plot(X, funcResults, label=\"approximation\")\n",
    "    ax.plot(XTrue, funcResTrue, label=\"true\")\n",
    "    ax.set_title(title)\n",
    "    ax.set_xlabel(\"X\")\n",
    "    ax.set_ylabel(\"Y = f(X)\")\n",
    "    ax.set_xticks(Xmajor)\n",
    "    ax.set_xticks(Xminor, minor=True)\n",
    "    ax.grid(which='minor', alpha=0.3)\n",
    "    ax.grid(which='major', alpha=1.0)\n",
    "    ax.fill_between(X, funcResults)\n",
    "    ax.legend()"
   ]
  },
  {
   "cell_type": "code",
   "execution_count": 13,
   "metadata": {
    "colab": {
     "base_uri": "https://localhost:8080/"
    },
    "id": "VAbEv3Y6wgzj",
    "outputId": "b11ed597-31f0-4c56-8026-b11a60f54019"
   },
   "outputs": [],
   "source": [
    "def trapezoid(f, a, b, n):\n",
    "    if n == 0:\n",
    "        return\n",
    "    X = np.linspace(a, b, num=n+1)\n",
    "    function_results = np.array([f(x) for x in X])\n",
    "    weights = np.full((n+1,), 2)\n",
    "    weights[0] = 1\n",
    "    weights[-1] = 1\n",
    "    h = (b-a) / n\n",
    "    total = np.sum(weights * function_results)\n",
    "    total *= (b-a)/(2*n)\n",
    "    return total, X, function_results\n"
   ]
  },
  {
   "cell_type": "code",
   "execution_count": 16,
   "metadata": {},
   "outputs": [
    {
     "name": "stdout",
     "output_type": "stream",
     "text": [
      "Please enter the formula:f(x) = x**3\n",
      "The integrated function is x**4/4\n",
      "Please enter the lower bound of integration:3\n",
      "Please enter the upper bound of integration:8\n",
      "Please enter the number of intervals / panels that you want:3\n",
      "the approximate area under the curve is 1041.9444444444446\n",
      "the true area under the curve is 1003.75\n",
      "the difference in measurement is 38.19444444444457\n",
      "the relative true error is 3.805175038051763%\n"
     ]
    }
   ],
   "source": [
    "def static_plot(num_int, title, mult=1):\n",
    "    func, func_str, func_integrate, f_int_str, a, b, n = input_func()\n",
    "    area, X, function_results = num_int(func, a, b, n)\n",
    "    XTrue, funcResTrue = function_true(func, a, b)\n",
    "    title += f\" of f(x) = {func_str}, n = {n}, from a = {a} to b = {b}\"\n",
    "    fig = plt.figure(figsize=(12, 5)); fig.clf();\n",
    "    ax = fig.add_subplot(1,1,1)\n",
    "    XMajor = X[::mult*(n//5 if n//5 != 0 else 1)] \n",
    "    if mult != 1:\n",
    "        XMajor = np.concatenate((XMajor, np.array([X[-1]])))\n",
    "#     plot_engine(ax, title, XTrue, funcResTrue, X, function_results,\n",
    "#                 X[::mult], X[::mult*(n//5 if n//5 != 0 else 1)])\n",
    "    plot_engine(ax, title, XTrue, funcResTrue, X, function_results,\n",
    "                X[::mult], XMajor)\n",
    "#     np.concatenate((interpolation_X[::10], np.array([interpolation_X[-1]]))\n",
    "    true_area = func_integrate(b) - func_integrate(a)\n",
    "    return area, true_area\n",
    "\n",
    "results(*static_plot(trapezoid, \"Trapezoidal Sum\"))"
   ]
  },
  {
   "cell_type": "code",
   "execution_count": 33,
   "metadata": {},
   "outputs": [
    {
     "name": "stdout",
     "output_type": "stream",
     "text": [
      "Please enter the formula:f(x) = x**2\n",
      "The integrated function is x**3/3\n",
      "Please enter the lower bound of integration:4\n",
      "Please enter the upper bound of integration:8\n",
      "Please enter the number of intervals / panels that you want:10\n"
     ]
    }
   ],
   "source": [
    "func, func_str, func_integrate, f_int_str, a, b, n = input_func()\n",
    "interval = b-a\n",
    "\n",
    "title = f\"Trapezoidal Sum of f(x) = {func_str}, n = {n}, from a = {a} to b = {b}\"\n",
    "    \n",
    "fig = plt.figure(figsize=(12, 5)); plt.clf();\n",
    "ax = fig.add_subplot(1, 1, 1)\n",
    "line, = ax.plot([], [], lw=2)\n",
    "x_ticks = ax.get_xticks()\n",
    "\n",
    "def init():\n",
    "    ax.set_ylabel(\"Y = f(X)\")\n",
    "    ax.set_xlabel(\"X\")\n",
    "    ax.set_xlim(a-interval, b+interval)\n",
    "    ax.set_xticks(np.array([]))\n",
    "    line.set_data([], [])\n",
    "    return line,\n",
    "\n",
    "def animate_trapezoid(i):\n",
    "    plt.cla()\n",
    "    area, X, function_results = trapezoid(func, a, b, i+1)\n",
    "    XTrue, funcResTrue = function_true(func, a, b)\n",
    "    plot_engine(ax, title, XTrue, funcResTrue,\n",
    "                X, function_results, X,\n",
    "                X[::n//5 if n//5 != 0 else 1])\n",
    "anim = mpl.animation.FuncAnimation(fig, animate_trapezoid, init_func=init, frames=n-1, interval=500)"
   ]
  },
  {
   "cell_type": "code",
   "execution_count": 18,
   "metadata": {},
   "outputs": [],
   "source": [
    "def calc_parabola_vertex(x1, y1, x2, y2, x3, y3):\n",
    "    denom = (x1-x2) * (x1-x3) * (x2-x3);\n",
    "    A     = (x3 * (y2-y1) + x2 * (y1-y3) + x1 * (y3-y2)) / denom;\n",
    "    B     = (x3*x3 * (y1-y2) + x2*x2 * (y3-y1) + x1*x1 * (y2-y3)) / denom;\n",
    "    C     = (x2 * x3 * (x2-x3) * y1+x3 * x1 * (x3-x1) * y2+x1 * x2 * (x1-x2) * y3) / denom;\n",
    "    return A,B,C\n",
    "\n",
    "def simpson_util(X1, X2, X3, Y1, Y2, Y3):\n",
    "    interpolation_X = np.array([])\n",
    "    interpolation_Y = np.array([])\n",
    "    for x1, x2, x3, y1, y2, y3 in zip(X1, X2, X3, Y1, Y2, Y3):\n",
    "        A, B, C = calc_parabola_vertex(x1, y1, x2, y2, x3, y3)\n",
    "        par_func = lambda A, B, C, a: A*(a**2)+B*a+C\n",
    "        int_X = np.linspace(x1, x3, 10)\n",
    "        int_Y = par_func(A, B, C, int_X)\n",
    "        interpolation_X = np.concatenate((interpolation_X, int_X))\n",
    "        interpolation_Y = np.concatenate((interpolation_Y, int_Y))        \n",
    "    return interpolation_X, interpolation_Y"
   ]
  },
  {
   "cell_type": "code",
   "execution_count": 19,
   "metadata": {
    "colab": {
     "base_uri": "https://localhost:8080/"
    },
    "id": "eeMx1MICvyQB",
    "outputId": "6f9dcfe2-ddbe-498f-b38e-2c98f6f3aeda"
   },
   "outputs": [],
   "source": [
    "def simpson(f,a, b, n):\n",
    "    X = np.linspace(a, b, num=n+1)\n",
    "    Y = np.array([f(x) for x in X])\n",
    "\n",
    "    X1 = np.array(X[0::2])\n",
    "    X2 = np.array(X[1::2])\n",
    "    X3 = np.array(X[2::2])\n",
    "    Y1 = np.array(Y[0::2])\n",
    "    Y2 = np.array(Y[1::2])\n",
    "    Y3 = np.array(Y[2::2]) \n",
    "    interpolation_X, interpolation_Y = simpson_util(X1, X2, X3, Y1, Y2, Y3)\n",
    "    \n",
    "    weights = np.full((n+1,), 1)\n",
    "    h = (b-a) / n\n",
    "    weights[1::2] = 4\n",
    "    weights[2::2] = 2\n",
    "    weights[-1] = 1\n",
    "    total = np.sum(weights * Y)\n",
    "    total *= h / 3\n",
    "    return total, interpolation_X, interpolation_Y\n",
    "\n"
   ]
  },
  {
   "cell_type": "code",
   "execution_count": 21,
   "metadata": {},
   "outputs": [
    {
     "name": "stdout",
     "output_type": "stream",
     "text": [
      "Please enter the formula:f(x) = x**4\n",
      "The integrated function is x**5/5\n",
      "Please enter the lower bound of integration:3\n",
      "Please enter the upper bound of integration:8\n",
      "Please enter the number of intervals / panels that you want:4\n",
      "the approximate area under the curve is 6506.627604166667\n",
      "the true area under the curve is 6505.0\n",
      "the difference in measurement is 1.6276041666669698\n",
      "the relative true error is 0.025020817320014908%\n"
     ]
    }
   ],
   "source": [
    "results(*static_plot(simpson, \"Simpson Sum\", 10))"
   ]
  },
  {
   "cell_type": "code",
   "execution_count": 43,
   "metadata": {},
   "outputs": [
    {
     "name": "stdout",
     "output_type": "stream",
     "text": [
      "Please enter the formula:f(x) = x**2\n",
      "The integrated function is x**3/3\n",
      "Please enter the lower bound of integration:4\n",
      "Please enter the upper bound of integration:8\n",
      "Please enter the number of intervals / panels that you want:6\n"
     ]
    }
   ],
   "source": [
    "func, func_str, func_integrate, f_int_str, a, b, n = input_func()\n",
    "interval = b-a\n",
    "title = f\"Trapezoidal Sum of f(x) = {func_str}, n = {n}, from a = {a} to b = {b}\"\n",
    "\n",
    "fig = plt.figure(figsize=(12, 5))\n",
    "ax = plt.axes(xlim=(0, 2), ylim=(-2, 2))\n",
    "\n",
    "def init():\n",
    "    ax.set_ylabel(\"f(X)\")\n",
    "    ax.set_xlabel(\"X\")\n",
    "    ax.set_xlim(a-interval, b+interval)\n",
    "    ax.set_ylim(1, -1)\n",
    "    ax.set_xticks(np.array([]))\n",
    "    line.set_data([], [])\n",
    "    return line,\n",
    "def animate_simpson(i):\n",
    "    plt.cla()\n",
    "    area, X, function_results = simpson(func, a, b, 2*(i+1))\n",
    "    XTrue, funcResTrue = function_true(func, a, b)\n",
    "    plot_engine(ax, title, XTrue, funcResTrue,\n",
    "                X, function_results, X[::10],\n",
    "                X[::10*(i//5 if i//5 != 0 else 1)])\n",
    "                \n",
    "anim = mpl.animation.FuncAnimation(fig, animate_simpson, init_func=init, frames=n, interval=1000)"
   ]
  },
  {
   "cell_type": "code",
   "execution_count": null,
   "metadata": {},
   "outputs": [],
   "source": []
  }
 ],
 "metadata": {
  "colab": {
   "collapsed_sections": [],
   "name": "Numerical Integration assignment Leon 2440032392.ipynb",
   "provenance": []
  },
  "kernelspec": {
   "display_name": "Python 3",
   "language": "python",
   "name": "python3"
  },
  "language_info": {
   "codemirror_mode": {
    "name": "ipython",
    "version": 3
   },
   "file_extension": ".py",
   "mimetype": "text/x-python",
   "name": "python",
   "nbconvert_exporter": "python",
   "pygments_lexer": "ipython3",
   "version": "3.8.5"
  }
 },
 "nbformat": 4,
 "nbformat_minor": 1
}
